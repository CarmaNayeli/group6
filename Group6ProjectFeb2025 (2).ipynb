{
 "cells": [
  {
   "cell_type": "markdown",
   "id": "b8f7e40e-d9b7-4ecb-a778-25a331669745",
   "metadata": {},
   "source": [
    "# Tic-Tac-Toe Group Project\n",
    "## Group 6- Caitlyn Carmabella Nayeli,Tahrin Tasmim, Anuradha Lakmali Wickramage Wickramage, Abdelaziz Bouraqqadi, Shima Azizi, and Don Ravindu Sanoj Hapuarachchi\n",
    "### Feb 2025"
   ]
  },
  {
   "cell_type": "markdown",
   "id": "83c8efd1-0881-4e6d-ad6f-1c3e602a8cdb",
   "metadata": {},
   "source": [
    "**Please note that this code uses tk interface, which is a standard python library. If this code does not run the first time, please make sure you have it installed. If you are not sure how, please refer to this document: https://docs.python.org/3/library/tkinter.html**"
   ]
  },
  {
   "cell_type": "markdown",
   "id": "777a878b-933e-4f8d-a486-05c4c6eab0e7",
   "metadata": {},
   "source": [
    "For this project we chose to make a game of Tic-Tac-Toe. Tic-Tac-Toe is a two-player game and consists of a nine-square grid. Each player chooses their move and with O or X and marks their square one at each chance. The player who succeeds in making their marks all in one line whether diagonally, horizontally, or vertically wins. The challenge for the other player is to block the game for their opponent and also to make their chain."
   ]
  },
  {
   "cell_type": "markdown",
   "id": "ff254f83-2ce7-4caa-8a78-f2f0d9038348",
   "metadata": {},
   "source": [
    "# Import standard python library tk interface in order to make a small gui"
   ]
  },
  {
   "cell_type": "code",
   "execution_count": 2,
   "id": "b314732d-4b8d-412f-b572-1d79610665cd",
   "metadata": {},
   "outputs": [],
   "source": [
    "from tkinter import * \n",
    "from tkinter import messagebox "
   ]
  },
  {
   "cell_type": "markdown",
   "id": "c9722db8-a485-4d1c-8eea-b8f180e84b57",
   "metadata": {},
   "source": [
    "# Instatiate global variables"
   ]
  },
  {
   "cell_type": "code",
   "execution_count": null,
   "id": "788a8912-1710-4e0e-b816-5b9d9c214b10",
   "metadata": {},
   "outputs": [],
   "source": [
    "complete = False\n",
    "player = \"X\""
   ]
  },
  {
   "cell_type": "markdown",
   "id": "6cb43119-9e0c-4bee-abcd-fcf29ae01f1f",
   "metadata": {},
   "source": [
    "# Define function to quit out of the gui window when the game is over"
   ]
  },
  {
   "cell_type": "code",
   "execution_count": null,
   "id": "a93afce8-3f45-4333-b83e-817dc87cb8cd",
   "metadata": {},
   "outputs": [],
   "source": [
    "def quit(self):\n",
    "    self.destroy()"
   ]
  },
  {
   "cell_type": "markdown",
   "id": "46cda2b2-a8c1-4b9b-bafd-3c527b6ed442",
   "metadata": {},
   "source": [
    "# Change turn function, switches player from X to O and vice versa"
   ]
  },
  {
   "cell_type": "code",
   "execution_count": null,
   "id": "84fe5455-4df6-44d8-9a77-6e1123a62afd",
   "metadata": {},
   "outputs": [],
   "source": [
    "def changeTurn():\n",
    "    global player \n",
    "    if (player == \"X\"):\n",
    "        player = \"O\"\n",
    "    else:\n",
    "        player = \"X\""
   ]
  },
  {
   "cell_type": "markdown",
   "id": "dcacf07b-175d-44e7-b7e6-3e3ea06321da",
   "metadata": {},
   "source": [
    "# Define on-click function for the button on the grid of the gui"
   ]
  },
  {
   "cell_type": "code",
   "execution_count": null,
   "id": "5ee16d69-3356-46ea-a6ca-eeb6c0f58b9c",
   "metadata": {},
   "outputs": [],
   "source": [
    "def click(row,col):\n",
    "\n",
    "    global player \n",
    "    \n",
    "    if player == \"X\" and states[row][col] == 0 and complete == False:\n",
    "        states[row][col] = \"X\"\n",
    "        b[row][col].configure(text = \"X\")\n",
    "        \n",
    "    elif player == \"O\" and states[row][col] == 0 and complete == False:\n",
    "        states[row][col] = \"O\"\n",
    "        b[row][col].configure(text = \"O\")\n",
    "        \n",
    "    checkWin()"
   ]
  },
  {
   "cell_type": "markdown",
   "id": "3a8f6679-370a-4cdd-b828-3be7e5ae6c2e",
   "metadata": {},
   "source": [
    "# Define function to check if there is a winning combination    "
   ]
  },
  {
   "cell_type": "code",
   "execution_count": null,
   "id": "0663ba96-c6cc-49c4-ab2b-416aa1c04e71",
   "metadata": {},
   "outputs": [],
   "source": [
    "def checkWin():\n",
    "\n",
    "    global complete\n",
    "    global player\n",
    "\n",
    "    i = 0\n",
    "    \n",
    "    while (i < 3):\n",
    "        # horizontal cases\n",
    "        if (states[i][0] == states[i][1] == states[i][2] !=0):\n",
    "            complete = True\n",
    "            messagebox.showinfo(player + \" Wins!\")\n",
    "            quit(root)\n",
    "            break\n",
    "\n",
    "        # vertical cases\n",
    "        elif (states[0][i] == states[1][i] == states[2][i] != 0):\n",
    "            complete = True\n",
    "            messagebox.showinfo(player + \" Wins!\")\n",
    "            quit(root)           \n",
    "            break\n",
    "\n",
    "        # diagonal case 1\n",
    "        elif (states[0][0] == states[1][1] == states[2][2] !=0):\n",
    "            complete = True\n",
    "            messagebox.showinfo(player + \" Wins!\")\n",
    "            quit(root)\n",
    "            break\n",
    "        # diagonal case 2\n",
    "        elif (states[0][2] == states[1][1] == states[2][0] !=0):\n",
    "            complete = True\n",
    "            messagebox.showinfo(player + \" Wins!\")\n",
    "            quit(root)\n",
    "            break\n",
    "        # every box complete with no win instance\n",
    "        elif (states[0][0] and states[0][1] and states[0][2] and states[1][0] and states[1][1] and states[1][2] and states[2][0] and states[2][1] and states[2][2] != 0):\n",
    "            complete = True\n",
    "            messagebox.showinfo(\"It's a Tie!\")\n",
    "            quit(root)\n",
    "            break\n",
    "        else:\n",
    "            i = i + 1\n",
    "            \n",
    "    changeTurn()"
   ]
  },
  {
   "cell_type": "markdown",
   "id": "d7743dae-26fe-4b39-826a-8687e6444274",
   "metadata": {},
   "source": [
    "# Define and instatiate the window of the gui "
   ]
  },
  {
   "cell_type": "code",
   "execution_count": 5,
   "id": "317e3b39-68f3-490f-8af7-4d9d7b15918e",
   "metadata": {},
   "outputs": [],
   "source": [
    "root = Tk()\n",
    "root.title(\"Tic Tac Toe: Group 6\")  \n",
    "messagebox.showinfo(\"X Starts!\")\n",
    "#Button\n",
    "b = [\n",
    "     [0,0,0],\n",
    "     [0,0,0],\n",
    "     [0,0,0]]\n",
    " \n",
    "states = [\n",
    "     [0,0,0],\n",
    "     [0,0,0],\n",
    "     [0,0,0]]\n",
    "\n"
   ]
  },
  {
   "cell_type": "markdown",
   "id": "b0b6bf88-98b4-49cb-b516-89818556ec00",
   "metadata": {},
   "source": [
    "# Run the loop that creates and runs the instance of the game"
   ]
  },
  {
   "cell_type": "code",
   "execution_count": null,
   "id": "5ad73e79-c486-43c6-bfa8-7ad979187af6",
   "metadata": {},
   "outputs": [],
   "source": [
    "for i in range(3):\n",
    "    for j in range(3): \n",
    "        b[i][j] = Button(height = 4, width = 8, font = (\"Helvetica\",\"24\"), command = lambda row = i, col = j : click(row,col))\n",
    "        b[i][j].grid(row = i, column = j)\n",
    "\n",
    "mainloop()"
   ]
  },
  {
   "cell_type": "markdown",
   "id": "53b0c4b7-7399-4726-a50e-1243e00ca826",
   "metadata": {},
   "source": [
    "Conclusion: in order to logic out what we needed to solve the problem, we made an algorithm and referenced other works to check its validity. Basically we knew that we would have to set up a way to click a button and mark either X or O, change turns, and determine a win, so we made individual functions we could call for those problems. We wrote and tested each by themselves, and later also added the quit function to destroy the window once the game was finished. We used tkinterface because it is a common tool included with most python installations that we could use to implement a simple gui. We had to look up how to incorporate it, but it wasn't too difficult. The hardest part was actually figuring out how to instantiate the window and the main loop themselves. The only significant user issue is that if you click on a taken asquare, it will let you and invalidate your turn instead saying you can't do it or giving you a warning. I considered implementing a warning, but decided it was outside the scope of the project."
   ]
  }
 ],
 "metadata": {
  "kernelspec": {
   "display_name": "Python [conda env:base] *",
   "language": "python",
   "name": "conda-base-py"
  },
  "language_info": {
   "codemirror_mode": {
    "name": "ipython",
    "version": 3
   },
   "file_extension": ".py",
   "mimetype": "text/x-python",
   "name": "python",
   "nbconvert_exporter": "python",
   "pygments_lexer": "ipython3",
   "version": "3.12.7"
  }
 },
 "nbformat": 4,
 "nbformat_minor": 5
}
